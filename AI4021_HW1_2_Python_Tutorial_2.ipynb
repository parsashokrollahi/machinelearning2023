{
  "nbformat": 4,
  "nbformat_minor": 0,
  "metadata": {
    "colab": {
      "provenance": [],
      "toc_visible": true,
      "include_colab_link": true
    },
    "kernelspec": {
      "name": "python3",
      "display_name": "Python 3"
    },
    "language_info": {
      "name": "python"
    }
  },
  "cells": [
    {
      "cell_type": "markdown",
      "metadata": {
        "id": "view-in-github",
        "colab_type": "text"
      },
      "source": [
        "<a href=\"https://colab.research.google.com/github/parsashokrollahi/machinelearning2023/blob/main/AI4021_HW1_2_Python_Tutorial_2.ipynb\" target=\"_parent\"><img src=\"https://colab.research.google.com/assets/colab-badge.svg\" alt=\"Open In Colab\"/></a>"
      ]
    },
    {
      "cell_type": "markdown",
      "source": [
        "**Problem 1:** Create a NumPy array of 20 random integers between 1 and 100. Calculate the mean, median, and standard deviation of the array."
      ],
      "metadata": {
        "id": "5jP9Bu4Ysx6g"
      }
    },
    {
      "cell_type": "code",
      "execution_count": null,
      "metadata": {
        "id": "We_SKcMhsxWZ",
        "outputId": "773a408a-d598-4162-90ce-b7c117a27b97",
        "colab": {
          "base_uri": "https://localhost:8080/"
        }
      },
      "outputs": [
        {
          "output_type": "stream",
          "name": "stdout",
          "text": [
            "55.5 56.5 26.38086427697167\n"
          ]
        }
      ],
      "source": [
        "import numpy as np\n",
        "\n",
        "a = np.random.randint(1, 101, size = 20)\n",
        "mean = np.mean(a)\n",
        "med = np.median(a)\n",
        "std = np.std(a)\n",
        "print(mean,med,std)"
      ]
    },
    {
      "cell_type": "markdown",
      "source": [
        "**Problem 2:** Create a Pandas DataFrame with three columns - 'Name', 'Age', and 'City' - and at least five rows of data. Perform a basic data exploration by displaying the first 3 rows, the last 2 rows, and a summary of statistics for the 'Age' column."
      ],
      "metadata": {
        "id": "-iiFwoVRs2s-"
      }
    },
    {
      "cell_type": "code",
      "source": [
        "import pandas as pd\n",
        "data = {\n",
        "    'Name': ['Parsa', 'Amir', 'Mohammad', 'Mohsen', 'Mobin'],\n",
        "    'Age': [21, 23, 22, 22, 20],\n",
        "    'City': ['Semnan', 'Semnan', 'Shahrekord', 'Damghan', 'Hamedan']\n",
        "}\n",
        "\n",
        "df = pd.DataFrame(data)\n",
        "print(\"First 3 rows:\",df.head(3),\"\\nLast 2 rows:\",df.tail(2),\"\\nSummary statistics for 'Age' column:\",df['Age'].describe())\n"
      ],
      "metadata": {
        "id": "TreuEe0Us4uO",
        "colab": {
          "base_uri": "https://localhost:8080/"
        },
        "outputId": "7a461ed4-6207-4930-c6d7-310dbd21852e"
      },
      "execution_count": 1,
      "outputs": [
        {
          "output_type": "stream",
          "name": "stdout",
          "text": [
            "First 3 rows:        Name  Age        City\n",
            "0     Parsa   21      Semnan\n",
            "1      Amir   23      Semnan\n",
            "2  Mohammad   22  Shahrekord \n",
            "Last 2 rows:      Name  Age     City\n",
            "3  Mohsen   22  Damghan\n",
            "4   Mobin   20  Hamedan \n",
            "Summary statistics for 'Age' column: count     5.000000\n",
            "mean     21.600000\n",
            "std       1.140175\n",
            "min      20.000000\n",
            "25%      21.000000\n",
            "50%      22.000000\n",
            "75%      22.000000\n",
            "max      23.000000\n",
            "Name: Age, dtype: float64\n"
          ]
        }
      ]
    },
    {
      "cell_type": "markdown",
      "source": [
        "**Problem 3:** Create a bar chart using Matplotlib to visualize the following data: Monthly sales for a store (January to May). Use appropriate labels and titles for the chart."
      ],
      "metadata": {
        "id": "PNw-Io7Js0-Z"
      }
    },
    {
      "cell_type": "code",
      "source": [
        "import matplotlib.pyplot as plt\n",
        "\n",
        "months = ['Farvadin', 'Ordibehesht', 'KHordad', 'Tir', 'Mordad']\n",
        "sales = [5000000, 6400000, 1000000, 3000000, 10000000]\n",
        "plt.figure(figsize=(8, 6))\n",
        "plt.bar(months, sales, color='skyblue')\n",
        "plt.xlabel('Month')\n",
        "plt.ylabel('Sales (in Rials)')\n",
        "plt.title('Monthly Sales  ')\n",
        "plt.grid(axis='y', linestyle='--', alpha=1)\n",
        "plt.show()"
      ],
      "metadata": {
        "id": "0mLs7tD4s9q4",
        "colab": {
          "base_uri": "https://localhost:8080/",
          "height": 564
        },
        "outputId": "538553a6-98bc-47fa-e9d2-70752af65032"
      },
      "execution_count": 3,
      "outputs": [
        {
          "output_type": "display_data",
          "data": {
            "text/plain": [
              "<Figure size 800x600 with 1 Axes>"
            ],
            "image/png": "[encoded data removed]"
          },
          "metadata": {}
        }
      ]
    },
    {
      "cell_type": "markdown",
      "source": [
        "**Problem 4:** Create two NumPy arrays, 'arr1' and 'arr2', both of size 5x5 with random integer values. Perform element-wise addition, subtraction, multiplication, and division between the two arrays."
      ],
      "metadata": {
        "id": "Lj1_pouqtBU1"
      }
    },
    {
      "cell_type": "code",
      "source": [
        "import numpy as np\n",
        "\n",
        "arr1 = np.random.randint(1, 100, size=(5, 5))\n",
        "arr2 = np.random.randint(1, 100, size=(5, 5))\n",
        "addition = arr1 + arr2\n",
        "subtraction = arr1 - arr2\n",
        "multiplication = arr1 * arr2\n",
        "division = arr1 / (arr2 + 1e-6)\n",
        "print(\"Array 1 \",arr1,\"\\nArray 2:\",arr2)\n",
        "print(\"Addition:\",addition,\"\\nSubtraction\",subtraction,\"\\nMultiplication:\",multiplication,\"\\nDivision:\",division)"
      ],
      "metadata": {
        "id": "gK1BxnVRtA4t",
        "colab": {
          "base_uri": "https://localhost:8080/"
        },
        "outputId": "0488a235-1310-4c8e-9653-9191d339876c"
      },
      "execution_count": 4,
      "outputs": [
        {
          "output_type": "stream",
          "name": "stdout",
          "text": [
            "Array 1  [[59 29 36 24  4]\n",
            " [47 91 94 47 47]\n",
            " [97 44 73 53 60]\n",
            " [97 44 38 33 10]\n",
            " [87 72 21  4 62]] \n",
            "Array 2: [[21  8 64 71 20]\n",
            " [33 30  4 74 91]\n",
            " [66 74 52 46 87]\n",
            " [61 70  5 21 70]\n",
            " [85 83  4 95 97]]\n",
            "Addition: [[ 80  37 100  95  24]\n",
            " [ 80 121  98 121 138]\n",
            " [163 118 125  99 147]\n",
            " [158 114  43  54  80]\n",
            " [172 155  25  99 159]] \n",
            "Subtraction [[ 38  21 -28 -47 -16]\n",
            " [ 14  61  90 -27 -44]\n",
            " [ 31 -30  21   7 -27]\n",
            " [ 36 -26  33  12 -60]\n",
            " [  2 -11  17 -91 -35]] \n",
            "Multiplication: [[1239  232 2304 1704   80]\n",
            " [1551 2730  376 3478 4277]\n",
            " [6402 3256 3796 2438 5220]\n",
            " [5917 3080  190  693  700]\n",
            " [7395 5976   84  380 6014]] \n",
            "Division: [[ 2.80952368  3.62499955  0.56249999  0.33802816  0.19999999]\n",
            " [ 1.42424238  3.03333323 23.49999413  0.63513513  0.51648351]\n",
            " [ 1.46969695  0.59459459  1.40384613  1.15217389  0.68965516]\n",
            " [ 1.59016391  0.62857142  7.59999848  1.5714285   0.14285714]\n",
            " [ 1.0235294   0.86746987  5.24999869  0.04210526  0.63917525]]\n"
          ]
        }
      ]
    },
    {
      "cell_type": "markdown",
      "source": [
        "**Problem 5:** Given a Pandas DataFrame with information about employees, filter and display only the employees who are older than 30 years."
      ],
      "metadata": {
        "id": "kii_k_K7tE1S"
      }
    },
    {
      "cell_type": "code",
      "source": [
        "import pandas as pd\n",
        "\n",
        "\n",
        "data = {'Name': ['Ali', 'Hassan', 'Hosein', 'Sajad', 'Mahdi'],\n",
        "        'Age': [28, 25, 40, 29, 20],\n",
        "        'Department': ['Dr', 'Student', 'PHD', 'Dr', 'student']}\n",
        "\n",
        "employee_df = pd.DataFrame(data)\n",
        "older_than_30 = employee_df[employee_df['Age'] > 30]\n",
        "print(older_than_30)\n"
      ],
      "metadata": {
        "id": "2tjtwMK5tLkW",
        "colab": {
          "base_uri": "https://localhost:8080/"
        },
        "outputId": "a6679878-2a82-495d-f748-e3b8b6f2d4f4"
      },
      "execution_count": 5,
      "outputs": [
        {
          "output_type": "stream",
          "name": "stdout",
          "text": [
            "     Name  Age Department\n",
            "2  Hosein   40        PHD\n"
          ]
        }
      ]
    },
    {
      "cell_type": "markdown",
      "source": [
        "**Problem 6:** Create a scatter plot using Matplotlib to visualize a dataset of 100 random (x, y) coordinates. Label the axes appropriately and give the plot a title."
      ],
      "metadata": {
        "id": "nWkeN_kxtNar"
      }
    },
    {
      "cell_type": "code",
      "source": [],
      "metadata": {
        "id": "kVctGlqwtSwd"
      },
      "execution_count": null,
      "outputs": []
    },
    {
      "cell_type": "markdown",
      "source": [
        "**Problem 7:** Create two NumPy matrices, 'matrix1' (2x3) and 'matrix2' (3x4), with random values. Perform matrix multiplication between the two matrices."
      ],
      "metadata": {
        "id": "ex6ZssoNtUn-"
      }
    },
    {
      "cell_type": "code",
      "source": [],
      "metadata": {
        "id": "HKWDmVICtVuX"
      },
      "execution_count": null,
      "outputs": []
    },
    {
      "cell_type": "markdown",
      "source": [
        "**Problem 8:** Given a Pandas DataFrame containing sales data, calculate and display the total sales for each product category."
      ],
      "metadata": {
        "id": "I_A6rPt8tYHF"
      }
    },
    {
      "cell_type": "code",
      "source": [],
      "metadata": {
        "id": "blNHInhXtbX_"
      },
      "execution_count": null,
      "outputs": []
    },
    {
      "cell_type": "markdown",
      "source": [
        "**Problem 9:** Create a line chart using Matplotlib to visualize the population growth of a city over 10 years. Label the axes and provide a title."
      ],
      "metadata": {
        "id": "mtFKN7CStmr5"
      }
    },
    {
      "cell_type": "code",
      "source": [],
      "metadata": {
        "id": "-_O7t-titn_I"
      },
      "execution_count": null,
      "outputs": []
    },
    {
      "cell_type": "markdown",
      "source": [
        "**Problem 10:** Given a Pandas DataFrame containing information about students, add a new column 'Grade' based on the following criteria:\n",
        "* If 'Score' >= 90, Grade is 'A'\n",
        "* If 'Score' >= 80, Grade is 'B'\n",
        "* If 'Score' >= 70, Grade is 'C'\n",
        "* If 'Score' < 70, Grade is 'D'"
      ],
      "metadata": {
        "id": "nPWzdcGFtrHS"
      }
    },
    {
      "cell_type": "code",
      "source": [],
      "metadata": {
        "id": "L4cEUfKAtz_D"
      },
      "execution_count": null,
      "outputs": []
    },
    {
      "cell_type": "markdown",
      "source": [
        "**Problem 11:** You are given a dataset containing monthly sales data for three products (A, B, and C) over a two-year period. Your task is to perform various data analysis tasks using NumPy, Pandas, and Matplotlib.\n",
        "\n",
        "\n",
        "*   Dataset:\n",
        "\n",
        "```\n",
        "import pandas as pd\n",
        "\n",
        "data = {\n",
        "    'Month': pd.date_range(start='2021-01-01', periods=24, freq='M'),\n",
        "    'Product A Sales': [500, 480, 600, 750, 900, 850, 920, 1100, 1300, 1350, 1500, 1450, 1550, 1600, 1650, 1600, 1500, 1400, 1600, 1700, 1800, 1750, 1850, 1900],\n",
        "    'Product B Sales': [300, 320, 400, 450, 500, 580, 700, 750, 820, 900, 950, 980, 1050, 1100, 1150, 1200, 1250, 1300, 1350, 1400, 1500, 1600, 1550, 1700],\n",
        "    'Product C Sales': [200, 210, 250, 280, 320, 350, 380, 400, 420, 440, 460, 480, 500, 520, 540, 560, 580, 600, 620, 640, 660, 680, 700, 720]\n",
        "}\n",
        "\n",
        "sales_df = pd.DataFrame(data)\n",
        "```\n",
        "*  Tasks:\n",
        "1. Calculate and display the total sales for each product over the two-year period.\n",
        "\n",
        "2. Calculate and display the average monthly sales for each product.\n",
        "\n",
        "3. Find the month with the highest sales for each product, and display the product and the sales value for that month.\n",
        "\n",
        "4. Calculate and display the percentage change in sales for each product from January to December in the second year (2022).\n",
        "\n",
        "5. Create a line chart using Matplotlib to visualize the monthly sales data for each product over the two-year period. Label the axes and provide a title for the chart.\n",
        "\n",
        "6. Calculate the correlation between Product A and Product B sales. Is there a strong correlation between these two products? Display the correlation coefficient.\n"
      ],
      "metadata": {
        "id": "ghA9GbcCuZIs"
      }
    },
    {
      "cell_type": "code",
      "source": [],
      "metadata": {
        "id": "9NOWYCddvHyY"
      },
      "execution_count": null,
      "outputs": []
    }
  ]
}